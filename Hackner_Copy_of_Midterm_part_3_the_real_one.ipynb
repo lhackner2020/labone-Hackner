{
  "nbformat": 4,
  "nbformat_minor": 0,
  "metadata": {
    "colab": {
      "provenance": [],
      "include_colab_link": true
    },
    "kernelspec": {
      "name": "python3",
      "display_name": "Python 3"
    },
    "language_info": {
      "name": "python"
    }
  },
  "cells": [
    {
      "cell_type": "markdown",
      "metadata": {
        "id": "view-in-github",
        "colab_type": "text"
      },
      "source": [
        "<a href=\"https://colab.research.google.com/github/lhackner2020/labone-Hackner/blob/main/Hackner_Copy_of_Midterm_part_3_the_real_one.ipynb\" target=\"_parent\"><img src=\"https://colab.research.google.com/assets/colab-badge.svg\" alt=\"Open In Colab\"/></a>"
      ]
    },
    {
      "cell_type": "code",
      "execution_count": null,
      "metadata": {
        "id": "qo4orOh1QzrR"
      },
      "outputs": [],
      "source": [
        "import numpy as np\n",
        "import matplotlib.pyplot as plt"
      ]
    },
    {
      "cell_type": "code",
      "source": [
        "#1-This code allows the import of Specific code off of the Matplotlib.pyplot site which cane bes used to graph specific sets."
      ],
      "metadata": {
        "id": "C-BlVUYpueGe"
      },
      "execution_count": null,
      "outputs": []
    },
    {
      "cell_type": "code",
      "source": [
        "X = np.array([12,9,20,7,2])    \n",
        "Y = np.array([38,28,63,22,6])  "
      ],
      "metadata": {
        "id": "eDdfNy1YQ5VO"
      },
      "execution_count": null,
      "outputs": []
    },
    {
      "cell_type": "code",
      "source": [
        "#2- This line of code is a list of point that are going to be on the scatter plot using X and Y coordinants. "
      ],
      "metadata": {
        "id": "3SCA6zOHtnE7"
      },
      "execution_count": null,
      "outputs": []
    },
    {
      "cell_type": "code",
      "source": [
        "plt.plot(X,Y,'g.')"
      ],
      "metadata": {
        "id": "bwEzkndjRAw-",
        "colab": {
          "base_uri": "https://localhost:8080/",
          "height": 282
        },
        "outputId": "d9ff0f44-b0e9-4483-d794-c9b86bf014ad"
      },
      "execution_count": null,
      "outputs": [
        {
          "output_type": "execute_result",
          "data": {
            "text/plain": [
              "[<matplotlib.lines.Line2D at 0x7fb9b27588d0>]"
            ]
          },
          "metadata": {},
          "execution_count": 9
        },
        {
          "output_type": "display_data",
          "data": {
            "text/plain": [
              "<Figure size 432x288 with 1 Axes>"
            ],
            "image/png": "[encoded data removed]"
          },
          "metadata": {
            "needs_background": "light"
          }
        }
      ]
    },
    {
      "cell_type": "code",
      "source": [
        "#3- Listen above is a scatter plot with all the points on the previous function laid out.\n",
        "I am unsure what \"G\" is in the equation, Im assuming is it for unlisted point on the line."
      ],
      "metadata": {
        "id": "lY0s4HOOvBvv"
      },
      "execution_count": null,
      "outputs": []
    },
    {
      "cell_type": "code",
      "source": [
        "m_guess = 0\n",
        "b_guess = 0 "
      ],
      "metadata": {
        "id": "8pUDOa2bRYWY"
      },
      "execution_count": null,
      "outputs": []
    },
    {
      "cell_type": "markdown",
      "source": [
        "$y=mx+b$"
      ],
      "metadata": {
        "id": "9pkUPkbzSwtL"
      }
    },
    {
      "cell_type": "code",
      "source": [
        "#4- the Equation above is the slope intercept form of the equation of a line."
      ],
      "metadata": {
        "id": "wmjQ-Xamv6VX"
      },
      "execution_count": null,
      "outputs": []
    },
    {
      "cell_type": "code",
      "source": [
        "m_guess * X + b_guess"
      ],
      "metadata": {
        "id": "ThmiCA2ISHIZ"
      },
      "execution_count": null,
      "outputs": []
    },
    {
      "cell_type": "code",
      "source": [
        "#5- I believe the line aboves brekas down trhe specific parts and makes it known that is wants to find those specific amounts for the slope of line of best fit."
      ],
      "metadata": {
        "id": "vxnRfY_1wSZ8"
      },
      "execution_count": null,
      "outputs": []
    },
    {
      "cell_type": "code",
      "source": [
        "y_guess = m_guess * X + b_guess"
      ],
      "metadata": {
        "id": "ndLRAbo0SMlI"
      },
      "execution_count": null,
      "outputs": []
    },
    {
      "cell_type": "code",
      "source": [
        "y_guess - Y"
      ],
      "metadata": {
        "id": "tcznOFlBS_r6",
        "outputId": "a78ea9ab-5f5a-4058-c46e-15f36dc3d54f",
        "colab": {
          "base_uri": "https://localhost:8080/"
        }
      },
      "execution_count": null,
      "outputs": [
        {
          "output_type": "execute_result",
          "data": {
            "text/plain": [
              "array([-38, -28, -63, -22,  -6])"
            ]
          },
          "metadata": {},
          "execution_count": 24
        }
      ]
    },
    {
      "cell_type": "code",
      "source": [
        "#6- In the line above the listed possible solutions of the Y amount are put above to find the possible amounts for slope."
      ],
      "metadata": {
        "id": "FBULvvDdxEQ1"
      },
      "execution_count": null,
      "outputs": []
    },
    {
      "cell_type": "code",
      "source": [
        "np.sum((y_guess - Y)**2)"
      ],
      "metadata": {
        "id": "tCDXN_yNTlHb"
      },
      "execution_count": null,
      "outputs": []
    },
    {
      "cell_type": "code",
      "source": [
        "loss = np.sum((y_guess - Y)**2)"
      ],
      "metadata": {
        "id": "KqzZP0KBUQfr"
      },
      "execution_count": null,
      "outputs": []
    },
    {
      "cell_type": "code",
      "source": [
        "#7- I am not sure what this line of code does exactly but i assume it is a specific equation to try to figure out possible solutions for the Y."
      ],
      "metadata": {
        "id": "4sUsKtDgxPEj"
      },
      "execution_count": null,
      "outputs": []
    },
    {
      "cell_type": "code",
      "source": [
        "best_loss_so_far = 1000000000000\n",
        "m_best = 0 \n",
        "b_best = 0 \n",
        "for m_guess in np.linspace(-100,100,100):\n",
        "    for b_guess in np.linspace(-100,100,100):\n",
        "        \n",
        "        y_guess = m_guess * X + b_guess\n",
        "\n",
        "        loss = np.sum((y_guess - Y)**2)\n",
        "\n",
        "        if loss < best_loss_so_far:\n",
        "            m_best = m_guess\n",
        "            b_best = b_guess\n",
        "            best_loss_so_far = loss\n",
        "\n",
        "print(\"Found best fit:\")\n",
        "print(m_best,b_best,loss)"
      ],
      "metadata": {
        "colab": {
          "base_uri": "https://localhost:8080/"
        },
        "id": "dxa0jobTWMg8",
        "outputId": "fc1db318-9f0a-4904-bdd5-bde95b389be1"
      },
      "execution_count": null,
      "outputs": [
        {
          "output_type": "stream",
          "name": "stdout",
          "text": [
            "Found best fit:\n",
            "3.030303030303031 1.0101010101010104 7378517.0\n"
          ]
        }
      ]
    },
    {
      "cell_type": "code",
      "source": [
        "#8- The line of code aboves deduces the amounts of M and B by working possible solutions and tryimg to interpret in a way so that the line of best fit is able to go throigh as many, or as close, as possible."
      ],
      "metadata": {
        "id": "LrejhKJerLMF"
      },
      "execution_count": null,
      "outputs": []
    },
    {
      "cell_type": "markdown",
      "source": [
        "Question 1:\n",
        "\n",
        "What do  𝑚  and  𝑏  represent in these equations?\n",
        "\n",
        "\n",
        "M represents the slope of the equation and B represents the Y intercept."
      ],
      "metadata": {
        "id": "v2L-TUT7vppK"
      }
    },
    {
      "cell_type": "markdown",
      "source": [
        "Question 2:\n",
        "\n",
        "Guess what the correct values  𝑚  and  𝑏  should be.\n",
        "\n",
        "The code found that M should be equal to 3.03..., and found the y intercept to be equal to 1.01...\n",
        "\n",
        "By using the equation for slope i found that the line of best fit would be 3.166..., and the y intercept should be -.33."
      ],
      "metadata": {
        "id": "W76xJxZyvtJ4"
      }
    },
    {
      "cell_type": "markdown",
      "source": [
        "Question 3:\n",
        "\n",
        "Does it make sense to include  𝑏  in the parameters?\n",
        "\n",
        "In this specific equation i do not think a b, or Y intercept, is necessary in this line of best fit. Most point lie close to it already without the need of a Y intercept."
      ],
      "metadata": {
        "id": "GsqxUK9GvtSd"
      }
    }
  ]
}